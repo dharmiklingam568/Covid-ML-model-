{
 "cells": [
  {
   "cell_type": "markdown",
   "id": "5640320f",
   "metadata": {},
   "source": [
    "# ML Project on covid dataset "
   ]
  },
  {
   "cell_type": "markdown",
   "id": "7a48763b",
   "metadata": {},
   "source": [
    "#### Importing the libraries"
   ]
  },
  {
   "cell_type": "code",
   "execution_count": 1,
   "id": "457ae0ff",
   "metadata": {},
   "outputs": [],
   "source": [
    "import pandas as pd\n",
    "import numpy as np\n",
    "import matplotlib.pyplot as plt\n",
    "import seaborn as sns"
   ]
  },
  {
   "cell_type": "markdown",
   "id": "1d921a56",
   "metadata": {},
   "source": [
    "#### reading the data in dataframe"
   ]
  },
  {
   "cell_type": "code",
   "execution_count": 2,
   "id": "d52b947f",
   "metadata": {},
   "outputs": [],
   "source": [
    "df=pd.read_csv(\"C:/Users/91862/OneDrive/Desktop/corona_tested_006.csv\",low_memory=False)"
   ]
  },
  {
   "cell_type": "markdown",
   "id": "b76a6b7b",
   "metadata": {},
   "source": [
    "#### displaying top 5 row of data using head function "
   ]
  },
  {
   "cell_type": "code",
   "execution_count": 3,
   "id": "c30276fd",
   "metadata": {},
   "outputs": [
    {
     "data": {
      "text/html": [
       "<div>\n",
       "<style scoped>\n",
       "    .dataframe tbody tr th:only-of-type {\n",
       "        vertical-align: middle;\n",
       "    }\n",
       "\n",
       "    .dataframe tbody tr th {\n",
       "        vertical-align: top;\n",
       "    }\n",
       "\n",
       "    .dataframe thead th {\n",
       "        text-align: right;\n",
       "    }\n",
       "</style>\n",
       "<table border=\"1\" class=\"dataframe\">\n",
       "  <thead>\n",
       "    <tr style=\"text-align: right;\">\n",
       "      <th></th>\n",
       "      <th>Ind_ID</th>\n",
       "      <th>Test_date</th>\n",
       "      <th>Cough_symptoms</th>\n",
       "      <th>Fever</th>\n",
       "      <th>Sore_throat</th>\n",
       "      <th>Shortness_of_breath</th>\n",
       "      <th>Headache</th>\n",
       "      <th>Corona</th>\n",
       "      <th>Age_60_above</th>\n",
       "      <th>Sex</th>\n",
       "      <th>Known_contact</th>\n",
       "    </tr>\n",
       "  </thead>\n",
       "  <tbody>\n",
       "    <tr>\n",
       "      <th>0</th>\n",
       "      <td>1</td>\n",
       "      <td>11-03-2020</td>\n",
       "      <td>TRUE</td>\n",
       "      <td>FALSE</td>\n",
       "      <td>TRUE</td>\n",
       "      <td>FALSE</td>\n",
       "      <td>FALSE</td>\n",
       "      <td>negative</td>\n",
       "      <td>None</td>\n",
       "      <td>None</td>\n",
       "      <td>Abroad</td>\n",
       "    </tr>\n",
       "    <tr>\n",
       "      <th>1</th>\n",
       "      <td>2</td>\n",
       "      <td>11-03-2020</td>\n",
       "      <td>FALSE</td>\n",
       "      <td>TRUE</td>\n",
       "      <td>FALSE</td>\n",
       "      <td>FALSE</td>\n",
       "      <td>FALSE</td>\n",
       "      <td>positive</td>\n",
       "      <td>None</td>\n",
       "      <td>None</td>\n",
       "      <td>Abroad</td>\n",
       "    </tr>\n",
       "    <tr>\n",
       "      <th>2</th>\n",
       "      <td>3</td>\n",
       "      <td>11-03-2020</td>\n",
       "      <td>FALSE</td>\n",
       "      <td>TRUE</td>\n",
       "      <td>FALSE</td>\n",
       "      <td>FALSE</td>\n",
       "      <td>FALSE</td>\n",
       "      <td>positive</td>\n",
       "      <td>None</td>\n",
       "      <td>None</td>\n",
       "      <td>Abroad</td>\n",
       "    </tr>\n",
       "    <tr>\n",
       "      <th>3</th>\n",
       "      <td>4</td>\n",
       "      <td>11-03-2020</td>\n",
       "      <td>TRUE</td>\n",
       "      <td>FALSE</td>\n",
       "      <td>FALSE</td>\n",
       "      <td>FALSE</td>\n",
       "      <td>FALSE</td>\n",
       "      <td>negative</td>\n",
       "      <td>None</td>\n",
       "      <td>None</td>\n",
       "      <td>Abroad</td>\n",
       "    </tr>\n",
       "    <tr>\n",
       "      <th>4</th>\n",
       "      <td>5</td>\n",
       "      <td>11-03-2020</td>\n",
       "      <td>TRUE</td>\n",
       "      <td>FALSE</td>\n",
       "      <td>FALSE</td>\n",
       "      <td>FALSE</td>\n",
       "      <td>FALSE</td>\n",
       "      <td>negative</td>\n",
       "      <td>None</td>\n",
       "      <td>None</td>\n",
       "      <td>Contact with confirmed</td>\n",
       "    </tr>\n",
       "  </tbody>\n",
       "</table>\n",
       "</div>"
      ],
      "text/plain": [
       "   Ind_ID   Test_date Cough_symptoms  Fever Sore_throat Shortness_of_breath  \\\n",
       "0       1  11-03-2020           TRUE  FALSE        TRUE               FALSE   \n",
       "1       2  11-03-2020          FALSE   TRUE       FALSE               FALSE   \n",
       "2       3  11-03-2020          FALSE   TRUE       FALSE               FALSE   \n",
       "3       4  11-03-2020           TRUE  FALSE       FALSE               FALSE   \n",
       "4       5  11-03-2020           TRUE  FALSE       FALSE               FALSE   \n",
       "\n",
       "  Headache    Corona Age_60_above   Sex           Known_contact  \n",
       "0    FALSE  negative         None  None                  Abroad  \n",
       "1    FALSE  positive         None  None                  Abroad  \n",
       "2    FALSE  positive         None  None                  Abroad  \n",
       "3    FALSE  negative         None  None                  Abroad  \n",
       "4    FALSE  negative         None  None  Contact with confirmed  "
      ]
     },
     "execution_count": 3,
     "metadata": {},
     "output_type": "execute_result"
    }
   ],
   "source": [
    "df.head()"
   ]
  },
  {
   "cell_type": "markdown",
   "id": "937ab2d0",
   "metadata": {},
   "source": [
    "#### replacing the none values and other values with null values "
   ]
  },
  {
   "cell_type": "code",
   "execution_count": 4,
   "id": "844ad022",
   "metadata": {},
   "outputs": [],
   "source": [
    "df.replace('None',np.nan,inplace=True)\n",
    "df.replace('other',np.nan,inplace=True)"
   ]
  },
  {
   "cell_type": "markdown",
   "id": "4d38d209",
   "metadata": {},
   "source": [
    "#### displying null values are present in data  "
   ]
  },
  {
   "cell_type": "code",
   "execution_count": 5,
   "id": "914ba5c6",
   "metadata": {},
   "outputs": [
    {
     "data": {
      "text/plain": [
       "Ind_ID                      0\n",
       "Test_date                   0\n",
       "Cough_symptoms            252\n",
       "Fever                     252\n",
       "Sore_throat                 1\n",
       "Shortness_of_breath         1\n",
       "Headache                    1\n",
       "Corona                   3892\n",
       "Age_60_above           127320\n",
       "Sex                     19563\n",
       "Known_contact               0\n",
       "dtype: int64"
      ]
     },
     "execution_count": 5,
     "metadata": {},
     "output_type": "execute_result"
    }
   ],
   "source": [
    "df.isnull().sum()"
   ]
  },
  {
   "cell_type": "markdown",
   "id": "23d7defd",
   "metadata": {},
   "source": [
    "#### slicing the important columns and saving in new variable"
   ]
  },
  {
   "cell_type": "code",
   "execution_count": 6,
   "id": "84b768f8",
   "metadata": {},
   "outputs": [],
   "source": [
    "final_df=df.iloc[:,2:8]"
   ]
  },
  {
   "cell_type": "markdown",
   "id": "5b754f8e",
   "metadata": {},
   "source": [
    "#### displaying the null values are present in final data "
   ]
  },
  {
   "cell_type": "code",
   "execution_count": 7,
   "id": "221d48b2",
   "metadata": {},
   "outputs": [
    {
     "data": {
      "text/plain": [
       "Cough_symptoms          252\n",
       "Fever                   252\n",
       "Sore_throat               1\n",
       "Shortness_of_breath       1\n",
       "Headache                  1\n",
       "Corona                 3892\n",
       "dtype: int64"
      ]
     },
     "execution_count": 7,
     "metadata": {},
     "output_type": "execute_result"
    }
   ],
   "source": [
    "final_df.isnull().sum()"
   ]
  },
  {
   "cell_type": "markdown",
   "id": "ed0456e1",
   "metadata": {},
   "source": [
    "#### droping the null values in final data  "
   ]
  },
  {
   "cell_type": "code",
   "execution_count": 8,
   "id": "23a5caac",
   "metadata": {},
   "outputs": [],
   "source": [
    "final_df.dropna(inplace=True)"
   ]
  },
  {
   "cell_type": "markdown",
   "id": "6022806e",
   "metadata": {},
   "source": [
    "#### displying the null values are present in final data  "
   ]
  },
  {
   "cell_type": "code",
   "execution_count": 9,
   "id": "d17f0935",
   "metadata": {},
   "outputs": [
    {
     "data": {
      "text/plain": [
       "Cough_symptoms         0\n",
       "Fever                  0\n",
       "Sore_throat            0\n",
       "Shortness_of_breath    0\n",
       "Headache               0\n",
       "Corona                 0\n",
       "dtype: int64"
      ]
     },
     "execution_count": 9,
     "metadata": {},
     "output_type": "execute_result"
    }
   ],
   "source": [
    "final_df.isnull().sum()"
   ]
  },
  {
   "cell_type": "code",
   "execution_count": 10,
   "id": "0720cb46",
   "metadata": {},
   "outputs": [
    {
     "data": {
      "text/html": [
       "<div>\n",
       "<style scoped>\n",
       "    .dataframe tbody tr th:only-of-type {\n",
       "        vertical-align: middle;\n",
       "    }\n",
       "\n",
       "    .dataframe tbody tr th {\n",
       "        vertical-align: top;\n",
       "    }\n",
       "\n",
       "    .dataframe thead th {\n",
       "        text-align: right;\n",
       "    }\n",
       "</style>\n",
       "<table border=\"1\" class=\"dataframe\">\n",
       "  <thead>\n",
       "    <tr style=\"text-align: right;\">\n",
       "      <th></th>\n",
       "      <th>Cough_symptoms</th>\n",
       "      <th>Fever</th>\n",
       "      <th>Sore_throat</th>\n",
       "      <th>Shortness_of_breath</th>\n",
       "      <th>Headache</th>\n",
       "      <th>Corona</th>\n",
       "    </tr>\n",
       "  </thead>\n",
       "  <tbody>\n",
       "    <tr>\n",
       "      <th>0</th>\n",
       "      <td>TRUE</td>\n",
       "      <td>FALSE</td>\n",
       "      <td>TRUE</td>\n",
       "      <td>FALSE</td>\n",
       "      <td>FALSE</td>\n",
       "      <td>negative</td>\n",
       "    </tr>\n",
       "    <tr>\n",
       "      <th>1</th>\n",
       "      <td>FALSE</td>\n",
       "      <td>TRUE</td>\n",
       "      <td>FALSE</td>\n",
       "      <td>FALSE</td>\n",
       "      <td>FALSE</td>\n",
       "      <td>positive</td>\n",
       "    </tr>\n",
       "    <tr>\n",
       "      <th>2</th>\n",
       "      <td>FALSE</td>\n",
       "      <td>TRUE</td>\n",
       "      <td>FALSE</td>\n",
       "      <td>FALSE</td>\n",
       "      <td>FALSE</td>\n",
       "      <td>positive</td>\n",
       "    </tr>\n",
       "    <tr>\n",
       "      <th>3</th>\n",
       "      <td>TRUE</td>\n",
       "      <td>FALSE</td>\n",
       "      <td>FALSE</td>\n",
       "      <td>FALSE</td>\n",
       "      <td>FALSE</td>\n",
       "      <td>negative</td>\n",
       "    </tr>\n",
       "    <tr>\n",
       "      <th>4</th>\n",
       "      <td>TRUE</td>\n",
       "      <td>FALSE</td>\n",
       "      <td>FALSE</td>\n",
       "      <td>FALSE</td>\n",
       "      <td>FALSE</td>\n",
       "      <td>negative</td>\n",
       "    </tr>\n",
       "  </tbody>\n",
       "</table>\n",
       "</div>"
      ],
      "text/plain": [
       "  Cough_symptoms  Fever Sore_throat Shortness_of_breath Headache    Corona\n",
       "0           TRUE  FALSE        TRUE               FALSE    FALSE  negative\n",
       "1          FALSE   TRUE       FALSE               FALSE    FALSE  positive\n",
       "2          FALSE   TRUE       FALSE               FALSE    FALSE  positive\n",
       "3           TRUE  FALSE       FALSE               FALSE    FALSE  negative\n",
       "4           TRUE  FALSE       FALSE               FALSE    FALSE  negative"
      ]
     },
     "execution_count": 10,
     "metadata": {},
     "output_type": "execute_result"
    }
   ],
   "source": [
    "final_df.head()"
   ]
  },
  {
   "cell_type": "markdown",
   "id": "c812b26c",
   "metadata": {},
   "source": [
    "####  By seeing the below graph we can say most of the people are corona negative "
   ]
  },
  {
   "cell_type": "code",
   "execution_count": 11,
   "id": "645aa7a1",
   "metadata": {},
   "outputs": [
    {
     "data": {
      "image/png": "[encoded data removed]",
      "text/plain": [
       "<Figure size 640x480 with 1 Axes>"
      ]
     },
     "metadata": {},
     "output_type": "display_data"
    }
   ],
   "source": [
    "sns.countplot(x=final_df.Corona,data=final_df)\n",
    "plt.title('Corona positive vs Corona negative')\n",
    "plt.show()"
   ]
  },
  {
   "cell_type": "markdown",
   "id": "cea6bdf1",
   "metadata": {},
   "source": [
    "#### By seeing the below graph we can say corona positive people having the symptoms of cough"
   ]
  },
  {
   "cell_type": "code",
   "execution_count": 12,
   "id": "52d2fdf0",
   "metadata": {},
   "outputs": [
    {
     "data": {
      "image/png": "[encoded data removed]",
      "text/plain": [
       "<Figure size 640x480 with 1 Axes>"
      ]
     },
     "metadata": {},
     "output_type": "display_data"
    }
   ],
   "source": [
    "sns.countplot(x=final_df.Corona,data=final_df,hue='Cough_symptoms')\n",
    "plt.title('Corono vs Cough symptoms')\n",
    "plt.show()"
   ]
  },
  {
   "cell_type": "markdown",
   "id": "c08a2cca",
   "metadata": {},
   "source": [
    "####   By seeing the below graph we can say corona positive people having the symptoms of fever "
   ]
  },
  {
   "cell_type": "code",
   "execution_count": 13,
   "id": "a33ef3fc",
   "metadata": {},
   "outputs": [
    {
     "data": {
      "image/png": "[encoded data removed]",
      "text/plain": [
       "<Figure size 640x480 with 1 Axes>"
      ]
     },
     "metadata": {},
     "output_type": "display_data"
    }
   ],
   "source": [
    "sns.countplot(x=final_df.Corona,data=final_df,hue='Fever')\n",
    "plt.title('Corono vs Fever')\n",
    "plt.show()"
   ]
  },
  {
   "cell_type": "markdown",
   "id": "112063d2",
   "metadata": {},
   "source": [
    "#### By seeing the below graph we can say corona positive people are having very slight symptoms of sore_throat "
   ]
  },
  {
   "cell_type": "code",
   "execution_count": 14,
   "id": "420bca32",
   "metadata": {},
   "outputs": [
    {
     "data": {
      "image/png": "[encoded data removed]",
      "text/plain": [
       "<Figure size 640x480 with 1 Axes>"
      ]
     },
     "metadata": {},
     "output_type": "display_data"
    }
   ],
   "source": [
    "sns.countplot(x=final_df.Corona,data=final_df,hue='Sore_throat')\n",
    "plt.title('Corono vs Sore_throat')\n",
    "plt.show()"
   ]
  },
  {
   "cell_type": "markdown",
   "id": "a0b9901f",
   "metadata": {},
   "source": [
    "####  By seeing the below graph we can say corona positive people are having very slight symptoms of shortness of breath"
   ]
  },
  {
   "cell_type": "code",
   "execution_count": 15,
   "id": "0f7a7ec3",
   "metadata": {},
   "outputs": [
    {
     "data": {
      "image/png": "[encoded data removed]",
      "text/plain": [
       "<Figure size 640x480 with 1 Axes>"
      ]
     },
     "metadata": {},
     "output_type": "display_data"
    }
   ],
   "source": [
    "sns.countplot(x=final_df.Corona,data=final_df,hue='Shortness_of_breath')\n",
    "plt.title('Corono vs Short of breath')\n",
    "plt.show()"
   ]
  },
  {
   "cell_type": "markdown",
   "id": "7159a3b8",
   "metadata": {},
   "source": [
    "#### By seeing the below graph we can say corona positive people are having very slight symptoms of headache "
   ]
  },
  {
   "cell_type": "code",
   "execution_count": 16,
   "id": "c8235b70",
   "metadata": {},
   "outputs": [
    {
     "data": {
      "image/png": "[encoded data removed]",
      "text/plain": [
       "<Figure size 640x480 with 1 Axes>"
      ]
     },
     "metadata": {},
     "output_type": "display_data"
    }
   ],
   "source": [
    "sns.countplot(x=final_df.Corona,data=final_df,hue='Headache')\n",
    "plt.title('Corono vs Cough Headache')\n",
    "plt.show()"
   ]
  },
  {
   "cell_type": "markdown",
   "id": "c8e0c6b2",
   "metadata": {},
   "source": [
    "#### By seeing the above graph we can conclude that the common symptoms are cough and fever for both positive and negative people "
   ]
  },
  {
   "cell_type": "markdown",
   "id": "c7c6e9b3",
   "metadata": {},
   "source": [
    "## Encoding the data using the Onehotencoder from sklearn librarie  "
   ]
  },
  {
   "cell_type": "markdown",
   "id": "2e23773b",
   "metadata": {},
   "source": [
    "#### Encoded using Onehotencoder for independent variable and dependent variable there five symptoms are present which cause the corono positive "
   ]
  },
  {
   "cell_type": "code",
   "execution_count": 17,
   "id": "29c0eaa8",
   "metadata": {},
   "outputs": [],
   "source": [
    "from sklearn.preprocessing import OneHotEncoder\n",
    "ohe=OneHotEncoder(drop='first')\n",
    "a=ohe.fit_transform(final_df).toarray()\n",
    "final_data=pd.DataFrame(a,columns=ohe.get_feature_names_out()).astype(int)"
   ]
  },
  {
   "cell_type": "markdown",
   "id": "04559142",
   "metadata": {},
   "source": [
    "#### After encodeing the final data is present in 1's and 0's format (for symptoms 1's represent True and 0's represent False and for corona variable 1's represent positive and 0's represent negative)"
   ]
  },
  {
   "cell_type": "code",
   "execution_count": 18,
   "id": "8cb7c559",
   "metadata": {},
   "outputs": [
    {
     "data": {
      "text/html": [
       "<div>\n",
       "<style scoped>\n",
       "    .dataframe tbody tr th:only-of-type {\n",
       "        vertical-align: middle;\n",
       "    }\n",
       "\n",
       "    .dataframe tbody tr th {\n",
       "        vertical-align: top;\n",
       "    }\n",
       "\n",
       "    .dataframe thead th {\n",
       "        text-align: right;\n",
       "    }\n",
       "</style>\n",
       "<table border=\"1\" class=\"dataframe\">\n",
       "  <thead>\n",
       "    <tr style=\"text-align: right;\">\n",
       "      <th></th>\n",
       "      <th>Cough_symptoms_TRUE</th>\n",
       "      <th>Fever_TRUE</th>\n",
       "      <th>Sore_throat_TRUE</th>\n",
       "      <th>Shortness_of_breath_TRUE</th>\n",
       "      <th>Headache_TRUE</th>\n",
       "      <th>Corona_positive</th>\n",
       "    </tr>\n",
       "  </thead>\n",
       "  <tbody>\n",
       "    <tr>\n",
       "      <th>0</th>\n",
       "      <td>1</td>\n",
       "      <td>0</td>\n",
       "      <td>1</td>\n",
       "      <td>0</td>\n",
       "      <td>0</td>\n",
       "      <td>0</td>\n",
       "    </tr>\n",
       "    <tr>\n",
       "      <th>1</th>\n",
       "      <td>0</td>\n",
       "      <td>1</td>\n",
       "      <td>0</td>\n",
       "      <td>0</td>\n",
       "      <td>0</td>\n",
       "      <td>1</td>\n",
       "    </tr>\n",
       "    <tr>\n",
       "      <th>2</th>\n",
       "      <td>0</td>\n",
       "      <td>1</td>\n",
       "      <td>0</td>\n",
       "      <td>0</td>\n",
       "      <td>0</td>\n",
       "      <td>1</td>\n",
       "    </tr>\n",
       "    <tr>\n",
       "      <th>3</th>\n",
       "      <td>1</td>\n",
       "      <td>0</td>\n",
       "      <td>0</td>\n",
       "      <td>0</td>\n",
       "      <td>0</td>\n",
       "      <td>0</td>\n",
       "    </tr>\n",
       "    <tr>\n",
       "      <th>4</th>\n",
       "      <td>1</td>\n",
       "      <td>0</td>\n",
       "      <td>0</td>\n",
       "      <td>0</td>\n",
       "      <td>0</td>\n",
       "      <td>0</td>\n",
       "    </tr>\n",
       "  </tbody>\n",
       "</table>\n",
       "</div>"
      ],
      "text/plain": [
       "   Cough_symptoms_TRUE  Fever_TRUE  Sore_throat_TRUE  \\\n",
       "0                    1           0                 1   \n",
       "1                    0           1                 0   \n",
       "2                    0           1                 0   \n",
       "3                    1           0                 0   \n",
       "4                    1           0                 0   \n",
       "\n",
       "   Shortness_of_breath_TRUE  Headache_TRUE  Corona_positive  \n",
       "0                         0              0                0  \n",
       "1                         0              0                1  \n",
       "2                         0              0                1  \n",
       "3                         0              0                0  \n",
       "4                         0              0                0  "
      ]
     },
     "execution_count": 18,
     "metadata": {},
     "output_type": "execute_result"
    }
   ],
   "source": [
    "final_data.head()"
   ]
  },
  {
   "cell_type": "code",
   "execution_count": 19,
   "id": "751afc7e",
   "metadata": {},
   "outputs": [
    {
     "data": {
      "text/html": [
       "<div>\n",
       "<style scoped>\n",
       "    .dataframe tbody tr th:only-of-type {\n",
       "        vertical-align: middle;\n",
       "    }\n",
       "\n",
       "    .dataframe tbody tr th {\n",
       "        vertical-align: top;\n",
       "    }\n",
       "\n",
       "    .dataframe thead th {\n",
       "        text-align: right;\n",
       "    }\n",
       "</style>\n",
       "<table border=\"1\" class=\"dataframe\">\n",
       "  <thead>\n",
       "    <tr style=\"text-align: right;\">\n",
       "      <th></th>\n",
       "      <th>Cough_symptoms_TRUE</th>\n",
       "      <th>Fever_TRUE</th>\n",
       "      <th>Sore_throat_TRUE</th>\n",
       "      <th>Shortness_of_breath_TRUE</th>\n",
       "      <th>Headache_TRUE</th>\n",
       "      <th>Corona_positive</th>\n",
       "    </tr>\n",
       "  </thead>\n",
       "  <tbody>\n",
       "    <tr>\n",
       "      <th>Cough_symptoms_TRUE</th>\n",
       "      <td>1.000000</td>\n",
       "      <td>0.453797</td>\n",
       "      <td>0.115613</td>\n",
       "      <td>0.106330</td>\n",
       "      <td>0.116730</td>\n",
       "      <td>0.196763</td>\n",
       "    </tr>\n",
       "    <tr>\n",
       "      <th>Fever_TRUE</th>\n",
       "      <td>0.453797</td>\n",
       "      <td>1.000000</td>\n",
       "      <td>0.122233</td>\n",
       "      <td>0.125840</td>\n",
       "      <td>0.169774</td>\n",
       "      <td>0.266633</td>\n",
       "    </tr>\n",
       "    <tr>\n",
       "      <th>Sore_throat_TRUE</th>\n",
       "      <td>0.115613</td>\n",
       "      <td>0.122233</td>\n",
       "      <td>1.000000</td>\n",
       "      <td>0.195181</td>\n",
       "      <td>0.323343</td>\n",
       "      <td>0.278462</td>\n",
       "    </tr>\n",
       "    <tr>\n",
       "      <th>Shortness_of_breath_TRUE</th>\n",
       "      <td>0.106330</td>\n",
       "      <td>0.125840</td>\n",
       "      <td>0.195181</td>\n",
       "      <td>1.000000</td>\n",
       "      <td>0.202082</td>\n",
       "      <td>0.233417</td>\n",
       "    </tr>\n",
       "    <tr>\n",
       "      <th>Headache_TRUE</th>\n",
       "      <td>0.116730</td>\n",
       "      <td>0.169774</td>\n",
       "      <td>0.323343</td>\n",
       "      <td>0.202082</td>\n",
       "      <td>1.000000</td>\n",
       "      <td>0.367324</td>\n",
       "    </tr>\n",
       "    <tr>\n",
       "      <th>Corona_positive</th>\n",
       "      <td>0.196763</td>\n",
       "      <td>0.266633</td>\n",
       "      <td>0.278462</td>\n",
       "      <td>0.233417</td>\n",
       "      <td>0.367324</td>\n",
       "      <td>1.000000</td>\n",
       "    </tr>\n",
       "  </tbody>\n",
       "</table>\n",
       "</div>"
      ],
      "text/plain": [
       "                          Cough_symptoms_TRUE  Fever_TRUE  Sore_throat_TRUE  \\\n",
       "Cough_symptoms_TRUE                  1.000000    0.453797          0.115613   \n",
       "Fever_TRUE                           0.453797    1.000000          0.122233   \n",
       "Sore_throat_TRUE                     0.115613    0.122233          1.000000   \n",
       "Shortness_of_breath_TRUE             0.106330    0.125840          0.195181   \n",
       "Headache_TRUE                        0.116730    0.169774          0.323343   \n",
       "Corona_positive                      0.196763    0.266633          0.278462   \n",
       "\n",
       "                          Shortness_of_breath_TRUE  Headache_TRUE  \\\n",
       "Cough_symptoms_TRUE                       0.106330       0.116730   \n",
       "Fever_TRUE                                0.125840       0.169774   \n",
       "Sore_throat_TRUE                          0.195181       0.323343   \n",
       "Shortness_of_breath_TRUE                  1.000000       0.202082   \n",
       "Headache_TRUE                             0.202082       1.000000   \n",
       "Corona_positive                           0.233417       0.367324   \n",
       "\n",
       "                          Corona_positive  \n",
       "Cough_symptoms_TRUE              0.196763  \n",
       "Fever_TRUE                       0.266633  \n",
       "Sore_throat_TRUE                 0.278462  \n",
       "Shortness_of_breath_TRUE         0.233417  \n",
       "Headache_TRUE                    0.367324  \n",
       "Corona_positive                  1.000000  "
      ]
     },
     "execution_count": 19,
     "metadata": {},
     "output_type": "execute_result"
    }
   ],
   "source": [
    "final_data.corr()"
   ]
  },
  {
   "cell_type": "markdown",
   "id": "13c34a8d",
   "metadata": {},
   "source": [
    "#### by the above table cough_symptoms and fever having good correlation  "
   ]
  },
  {
   "cell_type": "markdown",
   "id": "2286957d",
   "metadata": {},
   "source": [
    "#### After encoding sepration of independent variable which are five symptoms and dependent variable which is corona and  independent variable store in X variable and dependent variable which is store in y variable  "
   ]
  },
  {
   "cell_type": "code",
   "execution_count": 20,
   "id": "d90bb8f4",
   "metadata": {},
   "outputs": [],
   "source": [
    "X=final_data.iloc[:,0:5]\n",
    "y=final_data['Corona_positive']"
   ]
  },
  {
   "cell_type": "markdown",
   "id": "9d832a4c",
   "metadata": {},
   "source": [
    "#### X  variable represent the independent variable "
   ]
  },
  {
   "cell_type": "code",
   "execution_count": 21,
   "id": "9c881d22",
   "metadata": {},
   "outputs": [
    {
     "data": {
      "text/html": [
       "<div>\n",
       "<style scoped>\n",
       "    .dataframe tbody tr th:only-of-type {\n",
       "        vertical-align: middle;\n",
       "    }\n",
       "\n",
       "    .dataframe tbody tr th {\n",
       "        vertical-align: top;\n",
       "    }\n",
       "\n",
       "    .dataframe thead th {\n",
       "        text-align: right;\n",
       "    }\n",
       "</style>\n",
       "<table border=\"1\" class=\"dataframe\">\n",
       "  <thead>\n",
       "    <tr style=\"text-align: right;\">\n",
       "      <th></th>\n",
       "      <th>Cough_symptoms_TRUE</th>\n",
       "      <th>Fever_TRUE</th>\n",
       "      <th>Sore_throat_TRUE</th>\n",
       "      <th>Shortness_of_breath_TRUE</th>\n",
       "      <th>Headache_TRUE</th>\n",
       "    </tr>\n",
       "  </thead>\n",
       "  <tbody>\n",
       "    <tr>\n",
       "      <th>0</th>\n",
       "      <td>1</td>\n",
       "      <td>0</td>\n",
       "      <td>1</td>\n",
       "      <td>0</td>\n",
       "      <td>0</td>\n",
       "    </tr>\n",
       "    <tr>\n",
       "      <th>1</th>\n",
       "      <td>0</td>\n",
       "      <td>1</td>\n",
       "      <td>0</td>\n",
       "      <td>0</td>\n",
       "      <td>0</td>\n",
       "    </tr>\n",
       "    <tr>\n",
       "      <th>2</th>\n",
       "      <td>0</td>\n",
       "      <td>1</td>\n",
       "      <td>0</td>\n",
       "      <td>0</td>\n",
       "      <td>0</td>\n",
       "    </tr>\n",
       "    <tr>\n",
       "      <th>3</th>\n",
       "      <td>1</td>\n",
       "      <td>0</td>\n",
       "      <td>0</td>\n",
       "      <td>0</td>\n",
       "      <td>0</td>\n",
       "    </tr>\n",
       "    <tr>\n",
       "      <th>4</th>\n",
       "      <td>1</td>\n",
       "      <td>0</td>\n",
       "      <td>0</td>\n",
       "      <td>0</td>\n",
       "      <td>0</td>\n",
       "    </tr>\n",
       "  </tbody>\n",
       "</table>\n",
       "</div>"
      ],
      "text/plain": [
       "   Cough_symptoms_TRUE  Fever_TRUE  Sore_throat_TRUE  \\\n",
       "0                    1           0                 1   \n",
       "1                    0           1                 0   \n",
       "2                    0           1                 0   \n",
       "3                    1           0                 0   \n",
       "4                    1           0                 0   \n",
       "\n",
       "   Shortness_of_breath_TRUE  Headache_TRUE  \n",
       "0                         0              0  \n",
       "1                         0              0  \n",
       "2                         0              0  \n",
       "3                         0              0  \n",
       "4                         0              0  "
      ]
     },
     "execution_count": 21,
     "metadata": {},
     "output_type": "execute_result"
    }
   ],
   "source": [
    "X.head()"
   ]
  },
  {
   "cell_type": "markdown",
   "id": "a36dd83c",
   "metadata": {},
   "source": [
    "#### y variable represent the dependent variable  "
   ]
  },
  {
   "cell_type": "code",
   "execution_count": 22,
   "id": "713f25c2",
   "metadata": {},
   "outputs": [
    {
     "data": {
      "text/plain": [
       "0    0\n",
       "1    1\n",
       "2    1\n",
       "3    0\n",
       "4    0\n",
       "Name: Corona_positive, dtype: int32"
      ]
     },
     "execution_count": 22,
     "metadata": {},
     "output_type": "execute_result"
    }
   ],
   "source": [
    "y.head()"
   ]
  },
  {
   "cell_type": "markdown",
   "id": "8bec6965",
   "metadata": {},
   "source": [
    "#### After sepration of independent variable and dependent variable Using sklearn libraries spliting the data in train and test in 80% in train to train the model and 20% in test to verfiy the model prediciton  "
   ]
  },
  {
   "cell_type": "code",
   "execution_count": 23,
   "id": "921feb36",
   "metadata": {},
   "outputs": [],
   "source": [
    "from sklearn.model_selection import train_test_split\n",
    "X_train, X_test, y_train, y_test = train_test_split(X,y,test_size=0.2,stratify=y,random_state=10)"
   ]
  },
  {
   "cell_type": "markdown",
   "id": "55129c32",
   "metadata": {},
   "source": [
    "## Performing the logistic regression  "
   ]
  },
  {
   "cell_type": "code",
   "execution_count": 24,
   "id": "f049859a",
   "metadata": {},
   "outputs": [],
   "source": [
    "from sklearn.linear_model import LogisticRegression\n",
    "model=LogisticRegression()"
   ]
  },
  {
   "cell_type": "markdown",
   "id": "49ad8df7",
   "metadata": {},
   "source": [
    "#### Fitting the x_train and y_train data in model  "
   ]
  },
  {
   "cell_type": "code",
   "execution_count": 25,
   "id": "267c7a5e",
   "metadata": {},
   "outputs": [
    {
     "data": {
      "text/plain": [
       "LogisticRegression()"
      ]
     },
     "execution_count": 25,
     "metadata": {},
     "output_type": "execute_result"
    }
   ],
   "source": [
    "model.fit(X_train,y_train)"
   ]
  },
  {
   "cell_type": "markdown",
   "id": "6c41cd4f",
   "metadata": {},
   "source": [
    "#### predicting the x_test  "
   ]
  },
  {
   "cell_type": "code",
   "execution_count": 26,
   "id": "e73a442d",
   "metadata": {},
   "outputs": [],
   "source": [
    "prediction_test=model.predict(X_test)"
   ]
  },
  {
   "cell_type": "markdown",
   "id": "a767b33a",
   "metadata": {},
   "source": [
    "#### now calculating the accuracy score of the model using sklearn librarie using metrics"
   ]
  },
  {
   "cell_type": "code",
   "execution_count": 27,
   "id": "e3187a09",
   "metadata": {},
   "outputs": [
    {
     "name": "stdout",
     "output_type": "stream",
     "text": [
      "Accuracy: 0.9564259842376367\n"
     ]
    }
   ],
   "source": [
    "from sklearn.metrics import accuracy_score,confusion_matrix\n",
    "accuracy = accuracy_score(y_test, prediction_test)\n",
    "print(\"Accuracy:\", accuracy)"
   ]
  },
  {
   "cell_type": "markdown",
   "id": "99e78100",
   "metadata": {},
   "source": [
    "## Performing the same problem statement using Decision tree  "
   ]
  },
  {
   "cell_type": "markdown",
   "id": "8e84d357",
   "metadata": {},
   "source": [
    "#### Encoded dependent variable and independent variable using the onehotencoder "
   ]
  },
  {
   "cell_type": "code",
   "execution_count": 28,
   "id": "89c9db4c",
   "metadata": {},
   "outputs": [],
   "source": [
    "from  sklearn.preprocessing import OneHotEncoder\n",
    "ohe=OneHotEncoder()\n",
    "a=ohe.fit_transform(final_df).toarray()\n",
    "final_dt_df=pd.DataFrame(a,columns=ohe.get_feature_names_out()).astype(int)"
   ]
  },
  {
   "cell_type": "code",
   "execution_count": 29,
   "id": "f56f824a",
   "metadata": {},
   "outputs": [
    {
     "data": {
      "text/html": [
       "<div>\n",
       "<style scoped>\n",
       "    .dataframe tbody tr th:only-of-type {\n",
       "        vertical-align: middle;\n",
       "    }\n",
       "\n",
       "    .dataframe tbody tr th {\n",
       "        vertical-align: top;\n",
       "    }\n",
       "\n",
       "    .dataframe thead th {\n",
       "        text-align: right;\n",
       "    }\n",
       "</style>\n",
       "<table border=\"1\" class=\"dataframe\">\n",
       "  <thead>\n",
       "    <tr style=\"text-align: right;\">\n",
       "      <th></th>\n",
       "      <th>Cough_symptoms_FALSE</th>\n",
       "      <th>Cough_symptoms_TRUE</th>\n",
       "      <th>Fever_FALSE</th>\n",
       "      <th>Fever_TRUE</th>\n",
       "      <th>Sore_throat_FALSE</th>\n",
       "      <th>Sore_throat_TRUE</th>\n",
       "      <th>Shortness_of_breath_FALSE</th>\n",
       "      <th>Shortness_of_breath_TRUE</th>\n",
       "      <th>Headache_FALSE</th>\n",
       "      <th>Headache_TRUE</th>\n",
       "      <th>Corona_negative</th>\n",
       "      <th>Corona_positive</th>\n",
       "    </tr>\n",
       "  </thead>\n",
       "  <tbody>\n",
       "    <tr>\n",
       "      <th>0</th>\n",
       "      <td>0</td>\n",
       "      <td>1</td>\n",
       "      <td>1</td>\n",
       "      <td>0</td>\n",
       "      <td>0</td>\n",
       "      <td>1</td>\n",
       "      <td>1</td>\n",
       "      <td>0</td>\n",
       "      <td>1</td>\n",
       "      <td>0</td>\n",
       "      <td>1</td>\n",
       "      <td>0</td>\n",
       "    </tr>\n",
       "    <tr>\n",
       "      <th>1</th>\n",
       "      <td>1</td>\n",
       "      <td>0</td>\n",
       "      <td>0</td>\n",
       "      <td>1</td>\n",
       "      <td>1</td>\n",
       "      <td>0</td>\n",
       "      <td>1</td>\n",
       "      <td>0</td>\n",
       "      <td>1</td>\n",
       "      <td>0</td>\n",
       "      <td>0</td>\n",
       "      <td>1</td>\n",
       "    </tr>\n",
       "    <tr>\n",
       "      <th>2</th>\n",
       "      <td>1</td>\n",
       "      <td>0</td>\n",
       "      <td>0</td>\n",
       "      <td>1</td>\n",
       "      <td>1</td>\n",
       "      <td>0</td>\n",
       "      <td>1</td>\n",
       "      <td>0</td>\n",
       "      <td>1</td>\n",
       "      <td>0</td>\n",
       "      <td>0</td>\n",
       "      <td>1</td>\n",
       "    </tr>\n",
       "    <tr>\n",
       "      <th>3</th>\n",
       "      <td>0</td>\n",
       "      <td>1</td>\n",
       "      <td>1</td>\n",
       "      <td>0</td>\n",
       "      <td>1</td>\n",
       "      <td>0</td>\n",
       "      <td>1</td>\n",
       "      <td>0</td>\n",
       "      <td>1</td>\n",
       "      <td>0</td>\n",
       "      <td>1</td>\n",
       "      <td>0</td>\n",
       "    </tr>\n",
       "    <tr>\n",
       "      <th>4</th>\n",
       "      <td>0</td>\n",
       "      <td>1</td>\n",
       "      <td>1</td>\n",
       "      <td>0</td>\n",
       "      <td>1</td>\n",
       "      <td>0</td>\n",
       "      <td>1</td>\n",
       "      <td>0</td>\n",
       "      <td>1</td>\n",
       "      <td>0</td>\n",
       "      <td>1</td>\n",
       "      <td>0</td>\n",
       "    </tr>\n",
       "  </tbody>\n",
       "</table>\n",
       "</div>"
      ],
      "text/plain": [
       "   Cough_symptoms_FALSE  Cough_symptoms_TRUE  Fever_FALSE  Fever_TRUE  \\\n",
       "0                     0                    1            1           0   \n",
       "1                     1                    0            0           1   \n",
       "2                     1                    0            0           1   \n",
       "3                     0                    1            1           0   \n",
       "4                     0                    1            1           0   \n",
       "\n",
       "   Sore_throat_FALSE  Sore_throat_TRUE  Shortness_of_breath_FALSE  \\\n",
       "0                  0                 1                          1   \n",
       "1                  1                 0                          1   \n",
       "2                  1                 0                          1   \n",
       "3                  1                 0                          1   \n",
       "4                  1                 0                          1   \n",
       "\n",
       "   Shortness_of_breath_TRUE  Headache_FALSE  Headache_TRUE  Corona_negative  \\\n",
       "0                         0               1              0                1   \n",
       "1                         0               1              0                0   \n",
       "2                         0               1              0                0   \n",
       "3                         0               1              0                1   \n",
       "4                         0               1              0                1   \n",
       "\n",
       "   Corona_positive  \n",
       "0                0  \n",
       "1                1  \n",
       "2                1  \n",
       "3                0  \n",
       "4                0  "
      ]
     },
     "execution_count": 29,
     "metadata": {},
     "output_type": "execute_result"
    }
   ],
   "source": [
    "final_dt_df.head()"
   ]
  },
  {
   "cell_type": "markdown",
   "id": "95f058a5",
   "metadata": {},
   "source": [
    "#### sepration of the independent variable and dependent variable and storeing in x and y variable  "
   ]
  },
  {
   "cell_type": "code",
   "execution_count": 30,
   "id": "a6d8660c",
   "metadata": {},
   "outputs": [],
   "source": [
    "X=final_dt_df.iloc[:,0:10]\n",
    "y=final_dt_df[['Corona_negative','Corona_positive']]"
   ]
  },
  {
   "cell_type": "markdown",
   "id": "e1e1e045",
   "metadata": {},
   "source": [
    "####  After sepration of independent variable and dependent variable Using sklearn libraries spliting the data in train and test in 80% in train to train the model and 20% in test to verfiy the model prediciton  "
   ]
  },
  {
   "cell_type": "code",
   "execution_count": 31,
   "id": "47c3d3c5",
   "metadata": {},
   "outputs": [],
   "source": [
    "from sklearn.model_selection import train_test_split\n",
    "X_train, X_test, y_train, y_test = train_test_split(X, y, test_size=0.2,stratify=y, random_state=42)"
   ]
  },
  {
   "cell_type": "markdown",
   "id": "f814ac68",
   "metadata": {},
   "source": [
    "#### Performing the Decision tree using sklearn librarie"
   ]
  },
  {
   "cell_type": "code",
   "execution_count": 32,
   "id": "f4602b6f",
   "metadata": {},
   "outputs": [],
   "source": [
    "from sklearn.tree import DecisionTreeClassifier"
   ]
  },
  {
   "cell_type": "code",
   "execution_count": 33,
   "id": "3c58dd8c",
   "metadata": {},
   "outputs": [],
   "source": [
    "dtc=DecisionTreeClassifier()"
   ]
  },
  {
   "cell_type": "markdown",
   "id": "343fc7e0",
   "metadata": {},
   "source": [
    "#### Fitting the x_train and y_train data in model  "
   ]
  },
  {
   "cell_type": "code",
   "execution_count": 34,
   "id": "6928e29a",
   "metadata": {},
   "outputs": [
    {
     "data": {
      "text/plain": [
       "DecisionTreeClassifier()"
      ]
     },
     "execution_count": 34,
     "metadata": {},
     "output_type": "execute_result"
    }
   ],
   "source": [
    "dtc.fit(X_train,y_train)"
   ]
  },
  {
   "cell_type": "markdown",
   "id": "f57e4301",
   "metadata": {},
   "source": [
    "#### Predicting the x_test  "
   ]
  },
  {
   "cell_type": "code",
   "execution_count": 35,
   "id": "4cdd52dc",
   "metadata": {},
   "outputs": [],
   "source": [
    "dtc_xtest=dtc.predict(X_test)"
   ]
  },
  {
   "cell_type": "markdown",
   "id": "8fa5ba71",
   "metadata": {},
   "source": [
    "#### Calculating the accuracy score of the model and comparing predicted value with y_test using sklearn metrics "
   ]
  },
  {
   "cell_type": "code",
   "execution_count": 36,
   "id": "9da672f9",
   "metadata": {},
   "outputs": [
    {
     "name": "stdout",
     "output_type": "stream",
     "text": [
      "0.9572086419977794\n"
     ]
    }
   ],
   "source": [
    "from sklearn.metrics import accuracy_score,confusion_matrix\n",
    "accuracy = accuracy_score(y_test, dtc_xtest)\n",
    "print(accuracy)"
   ]
  },
  {
   "cell_type": "markdown",
   "id": "9d32bbf6",
   "metadata": {},
   "source": [
    "## Performing random forest on same problem statement  "
   ]
  },
  {
   "cell_type": "markdown",
   "id": "6874015a",
   "metadata": {},
   "source": [
    "#### performing encoding using onehot encoder  "
   ]
  },
  {
   "cell_type": "code",
   "execution_count": 37,
   "id": "87c61196",
   "metadata": {},
   "outputs": [],
   "source": [
    "from  sklearn.preprocessing import OneHotEncoder\n",
    "ohe=OneHotEncoder()\n",
    "a=ohe.fit_transform(final_df).toarray()\n",
    "final_rf_df=pd.DataFrame(a,columns=ohe.get_feature_names_out()).astype(int)"
   ]
  },
  {
   "cell_type": "code",
   "execution_count": 38,
   "id": "9380fdf8",
   "metadata": {},
   "outputs": [
    {
     "data": {
      "text/html": [
       "<div>\n",
       "<style scoped>\n",
       "    .dataframe tbody tr th:only-of-type {\n",
       "        vertical-align: middle;\n",
       "    }\n",
       "\n",
       "    .dataframe tbody tr th {\n",
       "        vertical-align: top;\n",
       "    }\n",
       "\n",
       "    .dataframe thead th {\n",
       "        text-align: right;\n",
       "    }\n",
       "</style>\n",
       "<table border=\"1\" class=\"dataframe\">\n",
       "  <thead>\n",
       "    <tr style=\"text-align: right;\">\n",
       "      <th></th>\n",
       "      <th>Cough_symptoms_FALSE</th>\n",
       "      <th>Cough_symptoms_TRUE</th>\n",
       "      <th>Fever_FALSE</th>\n",
       "      <th>Fever_TRUE</th>\n",
       "      <th>Sore_throat_FALSE</th>\n",
       "      <th>Sore_throat_TRUE</th>\n",
       "      <th>Shortness_of_breath_FALSE</th>\n",
       "      <th>Shortness_of_breath_TRUE</th>\n",
       "      <th>Headache_FALSE</th>\n",
       "      <th>Headache_TRUE</th>\n",
       "      <th>Corona_negative</th>\n",
       "      <th>Corona_positive</th>\n",
       "    </tr>\n",
       "  </thead>\n",
       "  <tbody>\n",
       "    <tr>\n",
       "      <th>0</th>\n",
       "      <td>0</td>\n",
       "      <td>1</td>\n",
       "      <td>1</td>\n",
       "      <td>0</td>\n",
       "      <td>0</td>\n",
       "      <td>1</td>\n",
       "      <td>1</td>\n",
       "      <td>0</td>\n",
       "      <td>1</td>\n",
       "      <td>0</td>\n",
       "      <td>1</td>\n",
       "      <td>0</td>\n",
       "    </tr>\n",
       "    <tr>\n",
       "      <th>1</th>\n",
       "      <td>1</td>\n",
       "      <td>0</td>\n",
       "      <td>0</td>\n",
       "      <td>1</td>\n",
       "      <td>1</td>\n",
       "      <td>0</td>\n",
       "      <td>1</td>\n",
       "      <td>0</td>\n",
       "      <td>1</td>\n",
       "      <td>0</td>\n",
       "      <td>0</td>\n",
       "      <td>1</td>\n",
       "    </tr>\n",
       "    <tr>\n",
       "      <th>2</th>\n",
       "      <td>1</td>\n",
       "      <td>0</td>\n",
       "      <td>0</td>\n",
       "      <td>1</td>\n",
       "      <td>1</td>\n",
       "      <td>0</td>\n",
       "      <td>1</td>\n",
       "      <td>0</td>\n",
       "      <td>1</td>\n",
       "      <td>0</td>\n",
       "      <td>0</td>\n",
       "      <td>1</td>\n",
       "    </tr>\n",
       "    <tr>\n",
       "      <th>3</th>\n",
       "      <td>0</td>\n",
       "      <td>1</td>\n",
       "      <td>1</td>\n",
       "      <td>0</td>\n",
       "      <td>1</td>\n",
       "      <td>0</td>\n",
       "      <td>1</td>\n",
       "      <td>0</td>\n",
       "      <td>1</td>\n",
       "      <td>0</td>\n",
       "      <td>1</td>\n",
       "      <td>0</td>\n",
       "    </tr>\n",
       "    <tr>\n",
       "      <th>4</th>\n",
       "      <td>0</td>\n",
       "      <td>1</td>\n",
       "      <td>1</td>\n",
       "      <td>0</td>\n",
       "      <td>1</td>\n",
       "      <td>0</td>\n",
       "      <td>1</td>\n",
       "      <td>0</td>\n",
       "      <td>1</td>\n",
       "      <td>0</td>\n",
       "      <td>1</td>\n",
       "      <td>0</td>\n",
       "    </tr>\n",
       "  </tbody>\n",
       "</table>\n",
       "</div>"
      ],
      "text/plain": [
       "   Cough_symptoms_FALSE  Cough_symptoms_TRUE  Fever_FALSE  Fever_TRUE  \\\n",
       "0                     0                    1            1           0   \n",
       "1                     1                    0            0           1   \n",
       "2                     1                    0            0           1   \n",
       "3                     0                    1            1           0   \n",
       "4                     0                    1            1           0   \n",
       "\n",
       "   Sore_throat_FALSE  Sore_throat_TRUE  Shortness_of_breath_FALSE  \\\n",
       "0                  0                 1                          1   \n",
       "1                  1                 0                          1   \n",
       "2                  1                 0                          1   \n",
       "3                  1                 0                          1   \n",
       "4                  1                 0                          1   \n",
       "\n",
       "   Shortness_of_breath_TRUE  Headache_FALSE  Headache_TRUE  Corona_negative  \\\n",
       "0                         0               1              0                1   \n",
       "1                         0               1              0                0   \n",
       "2                         0               1              0                0   \n",
       "3                         0               1              0                1   \n",
       "4                         0               1              0                1   \n",
       "\n",
       "   Corona_positive  \n",
       "0                0  \n",
       "1                1  \n",
       "2                1  \n",
       "3                0  \n",
       "4                0  "
      ]
     },
     "execution_count": 38,
     "metadata": {},
     "output_type": "execute_result"
    }
   ],
   "source": [
    "final_rf_df.head()"
   ]
  },
  {
   "cell_type": "markdown",
   "id": "82189683",
   "metadata": {},
   "source": [
    "#### spliting the independent variable and dependent variable  "
   ]
  },
  {
   "cell_type": "code",
   "execution_count": 39,
   "id": "94bbfe5b",
   "metadata": {},
   "outputs": [],
   "source": [
    "x=final_rf_df.iloc[:,0:10]\n",
    "y=final_rf_df[['Corona_negative','Corona_positive']]"
   ]
  },
  {
   "cell_type": "markdown",
   "id": "ffc6c87c",
   "metadata": {},
   "source": [
    "#### spliting the data into train and test using sklearn and 80% in train data and 20% in test data  "
   ]
  },
  {
   "cell_type": "code",
   "execution_count": 40,
   "id": "151e0181",
   "metadata": {},
   "outputs": [],
   "source": [
    "from sklearn.model_selection import train_test_split\n",
    "X_train, X_test, y_train, y_test = train_test_split(x, y, test_size=0.2,stratify=y, random_state=42)"
   ]
  },
  {
   "cell_type": "markdown",
   "id": "8189bdbe",
   "metadata": {},
   "source": [
    "#### Performing the Random forest model using sklearn "
   ]
  },
  {
   "cell_type": "code",
   "execution_count": 41,
   "id": "85288c9e",
   "metadata": {},
   "outputs": [],
   "source": [
    "from sklearn.ensemble import RandomForestClassifier\n",
    "rfc=RandomForestClassifier()"
   ]
  },
  {
   "cell_type": "markdown",
   "id": "fa53d1b4",
   "metadata": {},
   "source": [
    "#### Fitting the x_tain data and y_train data in model  "
   ]
  },
  {
   "cell_type": "code",
   "execution_count": 42,
   "id": "4e8b5437",
   "metadata": {},
   "outputs": [
    {
     "data": {
      "text/plain": [
       "RandomForestClassifier()"
      ]
     },
     "execution_count": 42,
     "metadata": {},
     "output_type": "execute_result"
    }
   ],
   "source": [
    "rfc.fit(X_train,y_train)"
   ]
  },
  {
   "cell_type": "markdown",
   "id": "d2eae28a",
   "metadata": {},
   "source": [
    "#### Predicting the x_test  "
   ]
  },
  {
   "cell_type": "code",
   "execution_count": 43,
   "id": "7c91e6bd",
   "metadata": {},
   "outputs": [],
   "source": [
    "rfc_xtest=rfc.predict(X_test)"
   ]
  },
  {
   "cell_type": "markdown",
   "id": "25a70f6e",
   "metadata": {},
   "source": [
    "#### Calculating the accuracy score of the model and comparing predicted value with y_test using sklearn metrics  "
   ]
  },
  {
   "cell_type": "code",
   "execution_count": 44,
   "id": "14ba8ecc",
   "metadata": {},
   "outputs": [
    {
     "name": "stdout",
     "output_type": "stream",
     "text": [
      "0.9572086419977794\n"
     ]
    }
   ],
   "source": [
    "from sklearn.metrics import accuracy_score,confusion_matrix\n",
    "accuracy = accuracy_score(y_test, rfc_xtest)\n",
    "print(accuracy)"
   ]
  },
  {
   "cell_type": "markdown",
   "id": "faf82c25",
   "metadata": {},
   "source": [
    "### It is a classification problem statement so after applying the Logistic regression,Decision Tree,Random forest  machine learning model three model are giving the 95% of accuracy score  "
   ]
  },
  {
   "cell_type": "code",
   "execution_count": null,
   "id": "f478f70e",
   "metadata": {},
   "outputs": [],
   "source": []
  },
  {
   "cell_type": "code",
   "execution_count": null,
   "id": "7a40b5fd",
   "metadata": {},
   "outputs": [],
   "source": []
  }
 ],
 "metadata": {
  "kernelspec": {
   "display_name": "Python 3 (ipykernel)",
   "language": "python",
   "name": "python3"
  },
  "language_info": {
   "codemirror_mode": {
    "name": "ipython",
    "version": 3
   },
   "file_extension": ".py",
   "mimetype": "text/x-python",
   "name": "python",
   "nbconvert_exporter": "python",
   "pygments_lexer": "ipython3",
   "version": "3.9.13"
  }
 },
 "nbformat": 4,
 "nbformat_minor": 5
}
